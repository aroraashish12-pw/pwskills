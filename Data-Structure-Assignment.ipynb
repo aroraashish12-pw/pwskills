{
 "cells": [
  {
   "cell_type": "markdown",
   "id": "8757078f-f791-447d-a8d0-da113718b202",
   "metadata": {},
   "source": [
    "Q1. How do you comment code in Python? What are the different types of comments?"
   ]
  },
  {
   "cell_type": "markdown",
   "id": "a3bf0891-41b1-446b-b7de-dbd01076a225",
   "metadata": {},
   "source": [
    "Python supports two type of comments. "
   ]
  },
  {
   "cell_type": "markdown",
   "id": "55145bde-10c9-4ac9-8d83-ee172db79657",
   "metadata": {},
   "source": [
    "Single Line commnets which can be done using the \"#\" symbole in front of the line for example\n",
    "# This is my comment example"
   ]
  },
  {
   "cell_type": "markdown",
   "id": "c66e9f6d-9d6b-4caa-a1de-933c18b1c8bc",
   "metadata": {},
   "source": [
    "Multi line comments which can comment your code across multiple lines and is done by enclosing your code to be commented in \"\"\" or '''"
   ]
  },
  {
   "cell_type": "code",
   "execution_count": null,
   "id": "65c4540f-9352-42f1-a1dd-b43520497791",
   "metadata": {},
   "outputs": [],
   "source": [
    "\"\"\"\n",
    "l = [1,2,3]\n",
    "for i in l:\n",
    "    print(i)\n",
    "\"\"\""
   ]
  },
  {
   "cell_type": "code",
   "execution_count": null,
   "id": "0079ac84-8a84-4cdc-bc0d-3fab2888af71",
   "metadata": {},
   "outputs": [],
   "source": []
  },
  {
   "cell_type": "markdown",
   "id": "615059e5-127d-4f1e-92ab-532545a3c2a6",
   "metadata": {},
   "source": [
    "Q2. What are variables in Python? How do you declare and assign values to variables?"
   ]
  },
  {
   "cell_type": "markdown",
   "id": "6170de5e-28ee-4c08-97c8-d6e0fb4953db",
   "metadata": {},
   "source": [
    "Variables provide us a way to store temporary value against any dataype in the memory. To declare a variable we name the variable and assign it a value"
   ]
  },
  {
   "cell_type": "code",
   "execution_count": 3,
   "id": "d93c73a9-ae8f-4692-95f3-611db062c60f",
   "metadata": {},
   "outputs": [],
   "source": [
    "#create string variable\n",
    "a_str = \"This is a string variable\"\n",
    "# Create a list variable\n",
    "a_list = [1,2,3]\n",
    "#Create a integre variable\n",
    "a_int = 12"
   ]
  },
  {
   "cell_type": "code",
   "execution_count": null,
   "id": "acdba4ec-361b-45b7-8d4d-5657e55bbc11",
   "metadata": {},
   "outputs": [],
   "source": []
  },
  {
   "cell_type": "markdown",
   "id": "a6de98f1-e870-4019-b1d6-82722c738b44",
   "metadata": {},
   "source": [
    "Q3. How do you convert one data type to another in Python?"
   ]
  },
  {
   "cell_type": "markdown",
   "id": "8e93d811-d8a7-474b-9551-226dbf88c4f9",
   "metadata": {},
   "source": [
    "We can use type casting to convert one variable to another. Like to convert integer to a string we can use str() function"
   ]
  },
  {
   "cell_type": "code",
   "execution_count": 9,
   "id": "683545f3-b6a4-4589-a90d-c51444152ce7",
   "metadata": {},
   "outputs": [
    {
     "name": "stdout",
     "output_type": "stream",
     "text": [
      "<class 'int'>\n",
      "<class 'str'>\n",
      "<class 'str'>\n",
      "<class 'list'>\n"
     ]
    }
   ],
   "source": [
    "#Integer to String\n",
    "a_int = 123\n",
    "print(type(a_int))\n",
    "a_int = str(a_int)\n",
    "print(type(a_int))\n",
    "\n",
    "# String to list\n",
    "a_str= \"pwskills\"\n",
    "print(type(a_str))\n",
    "a_str = list(a_str)\n",
    "print(type(a_str))"
   ]
  },
  {
   "cell_type": "code",
   "execution_count": null,
   "id": "b399ba01-2830-4590-98ec-24fb38f62f5e",
   "metadata": {},
   "outputs": [],
   "source": []
  },
  {
   "cell_type": "raw",
   "id": "004e83ee-5648-4fdb-b991-edce6eacff80",
   "metadata": {},
   "source": [
    "Q4. How do you write and execute a Python script from the command line?"
   ]
  },
  {
   "cell_type": "markdown",
   "id": "ac2bcb42-d37e-4c85-a568-69b43e706091",
   "metadata": {},
   "source": [
    "To execute the python script on command line, we run the following command to terminal of cmd"
   ]
  },
  {
   "cell_type": "code",
   "execution_count": null,
   "id": "f27f2ad9-83c3-44ef-97d3-ed93f9150d15",
   "metadata": {},
   "outputs": [],
   "source": []
  },
  {
   "cell_type": "code",
   "execution_count": null,
   "id": "b48480a9-45ae-4881-8cfc-ef43847cb71d",
   "metadata": {},
   "outputs": [],
   "source": []
  },
  {
   "cell_type": "markdown",
   "id": "503b86db-beed-45db-84b8-b37960eedc93",
   "metadata": {},
   "source": [
    "python test.py"
   ]
  },
  {
   "cell_type": "code",
   "execution_count": null,
   "id": "62ef229b-7857-41ce-9158-77aba73aa7b5",
   "metadata": {},
   "outputs": [],
   "source": []
  },
  {
   "cell_type": "markdown",
   "id": "cab98b4c-9164-4621-a691-a5c98f10daa3",
   "metadata": {},
   "source": [
    "Q5. Given a list my_list = [1, 2, 3, 4, 5], write the code to slice the list and obtain the sub-list [2, 3]."
   ]
  },
  {
   "cell_type": "code",
   "execution_count": 4,
   "id": "3fecd31e-0c6f-47b3-bf94-19ff6a982b5f",
   "metadata": {},
   "outputs": [
    {
     "name": "stdout",
     "output_type": "stream",
     "text": [
      "[2, 3]\n"
     ]
    }
   ],
   "source": [
    "my_list = [1,2,3,4,5]\n",
    "my_list2 =  my_list[1:3]\n",
    "print(my_list2)"
   ]
  },
  {
   "cell_type": "code",
   "execution_count": null,
   "id": "153fac74-b8a9-4e0e-b772-14d86b4fefc9",
   "metadata": {},
   "outputs": [],
   "source": []
  },
  {
   "cell_type": "markdown",
   "id": "89890afd-0605-4ddc-a036-1b68921e08d4",
   "metadata": {},
   "source": [
    "Q6. What is a complex number in mathematics, and how is it represented in Python?"
   ]
  },
  {
   "cell_type": "markdown",
   "id": "b55b608b-0fc9-4714-acf7-e74631f5c31a",
   "metadata": {},
   "source": [
    "Complex numbers are expressed as x+iy where x and y are real numbers and i is considerd as a imaginary number. In python you can represent it as x+yj whete x is real numbers and j is imaginary number."
   ]
  },
  {
   "cell_type": "code",
   "execution_count": 12,
   "id": "3958bfe1-1ac5-4bfe-b222-073fb00b87e4",
   "metadata": {},
   "outputs": [
    {
     "name": "stdout",
     "output_type": "stream",
     "text": [
      "<class 'complex'>\n",
      "Real part of complex number is  24.0\n",
      "Imaginary part of complex number is  5.0\n"
     ]
    }
   ],
   "source": [
    "a_complex = 24+5j\n",
    "print(type(a_complex))\n",
    "# to get real part\n",
    "print(\"Real part of complex number is \", a_complex.real)\n",
    "# to get imag part\n",
    "print(\"Imaginary part of complex number is \", a_complex.imag)"
   ]
  },
  {
   "cell_type": "code",
   "execution_count": null,
   "id": "f137298e-e834-439f-aad5-6962d9825937",
   "metadata": {},
   "outputs": [],
   "source": []
  },
  {
   "cell_type": "markdown",
   "id": "70333139-bd8b-4207-9bb7-6d08c46c203d",
   "metadata": {},
   "source": [
    "Q7. What is the correct way to declare a variable named age and assign the value 25 to it?"
   ]
  },
  {
   "cell_type": "code",
   "execution_count": 13,
   "id": "39e1c419-a3eb-4582-99f3-ae23286888fe",
   "metadata": {},
   "outputs": [],
   "source": [
    "age = 25"
   ]
  },
  {
   "cell_type": "code",
   "execution_count": null,
   "id": "014e4a08-6978-4ae1-98e5-6a9730a210ae",
   "metadata": {},
   "outputs": [],
   "source": []
  },
  {
   "cell_type": "markdown",
   "id": "e276fbb0-0db3-406c-bd87-60111b2fc075",
   "metadata": {},
   "source": [
    "Q8. Declare a variable named price and assign the value 9.99 to it. What data type does this variable\n",
    "belong to?"
   ]
  },
  {
   "cell_type": "code",
   "execution_count": 14,
   "id": "bfed2501-24a7-4a47-b1b6-26ea38e17092",
   "metadata": {},
   "outputs": [
    {
     "name": "stdout",
     "output_type": "stream",
     "text": [
      "Variable price is of type  <class 'float'>\n"
     ]
    }
   ],
   "source": [
    "price = 9.99\n",
    "#Variable belongs to float datatype\n",
    "print(\"Variable price is of type \", type(price))"
   ]
  },
  {
   "cell_type": "code",
   "execution_count": null,
   "id": "603caf95-f31e-42bd-b3ff-9fd34e8f33e2",
   "metadata": {},
   "outputs": [],
   "source": []
  },
  {
   "cell_type": "markdown",
   "id": "ec704bf0-df9a-4672-b02a-cb8e8f467d72",
   "metadata": {},
   "source": [
    "Q9. Create a variable named name and assign your full name to it as a string. How would you print the\n",
    "value of this variable?"
   ]
  },
  {
   "cell_type": "code",
   "execution_count": 15,
   "id": "5e044c95-b8b4-45df-9d15-e14c72110288",
   "metadata": {},
   "outputs": [
    {
     "name": "stdout",
     "output_type": "stream",
     "text": [
      "Ashish Arora\n"
     ]
    }
   ],
   "source": [
    "name  = \"Ashish Arora\"\n",
    "print(name)"
   ]
  },
  {
   "cell_type": "code",
   "execution_count": null,
   "id": "edb88f34-522c-4655-b77f-b69ab8a48d47",
   "metadata": {},
   "outputs": [],
   "source": []
  },
  {
   "cell_type": "markdown",
   "id": "b45b36c5-4be2-4e9b-b723-0b71b4e11235",
   "metadata": {},
   "source": [
    "Q10. Given the string \"Hello, World!\", extract the substring \"World\"."
   ]
  },
  {
   "cell_type": "code",
   "execution_count": 17,
   "id": "d730ad66-79e5-4d5b-bcd3-f79f453b11e0",
   "metadata": {},
   "outputs": [
    {
     "name": "stdout",
     "output_type": "stream",
     "text": [
      "World\n"
     ]
    }
   ],
   "source": [
    "t_str = \"Hello, World!\"\n",
    "f_str = t_str[7:12]\n",
    "print(f_str)"
   ]
  },
  {
   "cell_type": "code",
   "execution_count": null,
   "id": "34cfa37e-6426-46f4-92ec-fbfa86374b8e",
   "metadata": {},
   "outputs": [],
   "source": []
  },
  {
   "cell_type": "markdown",
   "id": "b2ecb902-2cb3-44e8-be45-28db412ede1d",
   "metadata": {},
   "source": [
    "Q11. Create a variable named \"is_student\" and assign it a boolean value indicating whether you are\n",
    "currently a student or not."
   ]
  },
  {
   "cell_type": "code",
   "execution_count": 18,
   "id": "bc5e914a-f27c-45c5-84ad-965beb7bfc9a",
   "metadata": {},
   "outputs": [
    {
     "name": "stdout",
     "output_type": "stream",
     "text": [
      "<class 'bool'>\n"
     ]
    }
   ],
   "source": [
    "is_student = False\n",
    "print(type(is_student))"
   ]
  },
  {
   "cell_type": "code",
   "execution_count": null,
   "id": "a09296b2-4de7-4fa2-b2e2-cbd20d28aa2f",
   "metadata": {},
   "outputs": [],
   "source": []
  }
 ],
 "metadata": {
  "kernelspec": {
   "display_name": "Python 3 (ipykernel)",
   "language": "python",
   "name": "python3"
  },
  "language_info": {
   "codemirror_mode": {
    "name": "ipython",
    "version": 3
   },
   "file_extension": ".py",
   "mimetype": "text/x-python",
   "name": "python",
   "nbconvert_exporter": "python",
   "pygments_lexer": "ipython3",
   "version": "3.10.8"
  }
 },
 "nbformat": 4,
 "nbformat_minor": 5
}
