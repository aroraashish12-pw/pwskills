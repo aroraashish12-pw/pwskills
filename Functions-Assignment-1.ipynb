{
 "cells": [
  {
   "cell_type": "markdown",
   "id": "d60f231a-0426-46c2-82be-3385f27e30a0",
   "metadata": {},
   "source": [
    "Q1. Which keyword is used to create a function? Create a function to return a list of odd numbers in the\n",
    "range of 1 to 25."
   ]
  },
  {
   "cell_type": "markdown",
   "id": "63af7647-1e57-449d-887c-19f143ced53f",
   "metadata": {},
   "source": [
    "We use \"def\" keuword to create a function"
   ]
  },
  {
   "cell_type": "code",
   "execution_count": 1,
   "id": "3656357c-fa09-4818-a597-68063e4d3231",
   "metadata": {},
   "outputs": [],
   "source": [
    "def get_odd_numbers():\n",
    "    odd_numbers = []\n",
    "    for i in range(26):\n",
    "        if i%2 != 0:\n",
    "            odd_numbers.append(i)\n",
    "    return odd_numbers"
   ]
  },
  {
   "cell_type": "code",
   "execution_count": 2,
   "id": "45e5cd30-a896-4b73-b29c-d6e2c1865e03",
   "metadata": {},
   "outputs": [
    {
     "name": "stdout",
     "output_type": "stream",
     "text": [
      "[1, 3, 5, 7, 9, 11, 13, 15, 17, 19, 21, 23, 25]\n"
     ]
    }
   ],
   "source": [
    "o_numbers = get_odd_numbers()\n",
    "print(o_numbers)"
   ]
  },
  {
   "cell_type": "code",
   "execution_count": null,
   "id": "42449598-a96b-4209-bc52-0a8a8d7e26df",
   "metadata": {},
   "outputs": [],
   "source": []
  },
  {
   "cell_type": "markdown",
   "id": "eee0b7df-c8ce-451c-9d43-a061731126a4",
   "metadata": {},
   "source": [
    "Q2. Why *args and **kwargs is used in some functions? Create a function each for *args and **kwargs\n",
    "to demonstrate their use."
   ]
  },
  {
   "cell_type": "markdown",
   "id": "44f469ca-774f-4a78-bcb5-d7baf734de5b",
   "metadata": {},
   "source": [
    "*args is used when we do not want to define the number of arguments for a function at the time of function defination.We can pass any number of arguments at runtime.\n",
    "For ex. def create_list(*args)"
   ]
  },
  {
   "cell_type": "code",
   "execution_count": 3,
   "id": "ee0f2b16-55c8-4e55-b947-7c8e5aa32d98",
   "metadata": {},
   "outputs": [],
   "source": [
    "def add_numbers(*args):\n",
    "    sum = 0\n",
    "    for arg in args:\n",
    "        sum+=arg\n",
    "    return sum"
   ]
  },
  {
   "cell_type": "code",
   "execution_count": 4,
   "id": "09eacf23-7f46-4464-bb3b-42d5fba9198a",
   "metadata": {},
   "outputs": [
    {
     "name": "stdout",
     "output_type": "stream",
     "text": [
      "22\n"
     ]
    }
   ],
   "source": [
    "sum_numbers =  add_numbers(2,4,9,7)\n",
    "print(sum_numbers)"
   ]
  },
  {
   "cell_type": "markdown",
   "id": "c6463f2b-3709-46f4-88ca-da224e858f94",
   "metadata": {},
   "source": [
    "**kwargs is used when we do not want to define the number of key value pair arguments for a function at the time of function defination.We can pass any number of arguments at runtime.\n",
    "For ex. def create_list(**kwargs)"
   ]
  },
  {
   "cell_type": "code",
   "execution_count": 5,
   "id": "df2a37e6-5d15-4a1f-ad1f-16aea6e75f43",
   "metadata": {},
   "outputs": [],
   "source": [
    "def get_max_scorer(**kwargs):\n",
    "    \"\"\"\n",
    "    Returns max scorer names as a list\n",
    "    \"\"\"\n",
    "    max_scorers = []\n",
    "    for arg_k,arg_v in kwargs.items():\n",
    "        if arg_v > 75:\n",
    "            max_scorers.append(arg_k)\n",
    "    return max_scorers"
   ]
  },
  {
   "cell_type": "code",
   "execution_count": 6,
   "id": "1767158f-961b-422e-885e-03e54bfea47f",
   "metadata": {},
   "outputs": [
    {
     "name": "stdout",
     "output_type": "stream",
     "text": [
      "['Aditya', 'Krish']\n"
     ]
    }
   ],
   "source": [
    "students_score = get_max_scorer(Ram=40,Aditya=80,Krish=78,Rahul=74)\n",
    "print(students_score)"
   ]
  },
  {
   "cell_type": "code",
   "execution_count": null,
   "id": "7c7c38ee-81d0-43e4-8221-a9c43b2069a1",
   "metadata": {},
   "outputs": [],
   "source": []
  },
  {
   "cell_type": "markdown",
   "id": "2ce028e3-4462-4fa5-a669-07b22aa0bfae",
   "metadata": {},
   "source": [
    "Q3. What is an iterator in python? Name the method used to initialise the iterator object and the method\n",
    "used for iteration. Use these methods to print the first five elements of the given list [2, 4, 6, 8, 10, 12, 14,\n",
    "16, 18, 20]."
   ]
  },
  {
   "cell_type": "markdown",
   "id": "9b1421f1-feee-4782-98fa-7b978ed60f42",
   "metadata": {},
   "source": [
    "Iterator is an object that helps you to iterate over iterable objects like lists, tuples,etc\n",
    "We use the iter() function to initialize the iterator\n",
    "To method that is used for iteration is next()"
   ]
  },
  {
   "cell_type": "code",
   "execution_count": 30,
   "id": "9c25f8f7-88fe-4a4b-9144-22b4f9ac0175",
   "metadata": {},
   "outputs": [
    {
     "name": "stdout",
     "output_type": "stream",
     "text": [
      "2\n",
      "4\n",
      "6\n",
      "8\n",
      "10\n"
     ]
    }
   ],
   "source": [
    "l = [2, 4, 6, 8, 10, 12, 14,16, 18, 20]\n",
    "l_iter = iter(l)\n",
    "for i in range(5):\n",
    "    print(next(l_iter))"
   ]
  },
  {
   "cell_type": "code",
   "execution_count": null,
   "id": "71471b9f-9597-4cfe-a688-e585a8ab1f94",
   "metadata": {},
   "outputs": [],
   "source": []
  },
  {
   "cell_type": "markdown",
   "id": "e52c3a38-da28-4af0-b8ea-b92d62d89434",
   "metadata": {},
   "source": [
    "Q4. What is a generator function in python? Why yield keyword is used? Give an example of a generator function."
   ]
  },
  {
   "cell_type": "markdown",
   "id": "bacfed2b-dac1-4a57-b1bc-cd68eca0dda8",
   "metadata": {},
   "source": [
    "Generators are functions that are used to generate results dynamically at run time for inputs instead of storing all the data in frst place. This saves memory issue when dealting with hige datasets.\n",
    "yields is a keyord that is used to generate a data in generator."
   ]
  },
  {
   "cell_type": "code",
   "execution_count": 22,
   "id": "f1d00a35-e755-4f6a-8a1b-f28d2bdba8f9",
   "metadata": {},
   "outputs": [],
   "source": [
    "def get_first_five():\n",
    "    l = [2, 4, 6, 8, 10, 12, 14,16, 18, 20]\n",
    "    for element in l:\n",
    "        if l.index(element) < 5:\n",
    "            yield element    "
   ]
  },
  {
   "cell_type": "code",
   "execution_count": 25,
   "id": "05f25885-7a6f-4d7f-8f07-16ff79f2156d",
   "metadata": {},
   "outputs": [
    {
     "name": "stdout",
     "output_type": "stream",
     "text": [
      "2\n",
      "4\n",
      "6\n",
      "8\n",
      "10\n"
     ]
    }
   ],
   "source": [
    "first_five = get_first_five()\n",
    "for i in range(5):\n",
    "    print(next(first_five))"
   ]
  },
  {
   "cell_type": "markdown",
   "id": "25f0ad9c-3376-4c94-9ab3-ee30a8275471",
   "metadata": {},
   "source": []
  },
  {
   "cell_type": "markdown",
   "id": "0e0ec7a6-0895-4f25-b977-76f85d58c45a",
   "metadata": {},
   "source": [
    "Q5. Create a generator function for prime numbers less than 1000. Use the next() method to print the first 20 prime numbers."
   ]
  },
  {
   "cell_type": "code",
   "execution_count": 78,
   "id": "9409a08e-4186-4fba-82ec-0628f1940f76",
   "metadata": {},
   "outputs": [],
   "source": [
    "def get_prime():\n",
    "    for i in range(0, 1000):\n",
    "        if i > 1:\n",
    "            for j in range(2, int(i/2)+1):\n",
    "                if i % j == 0:\n",
    "                    break\n",
    "            else:\n",
    "                yield i"
   ]
  },
  {
   "cell_type": "code",
   "execution_count": 79,
   "id": "e15e25e7-c359-4985-8903-c81f6c9967a2",
   "metadata": {},
   "outputs": [],
   "source": [
    "g_prime = get_prime()"
   ]
  },
  {
   "cell_type": "code",
   "execution_count": 80,
   "id": "1dfd1c76-6a28-415a-bb7c-3b3198ffd72f",
   "metadata": {},
   "outputs": [
    {
     "name": "stdout",
     "output_type": "stream",
     "text": [
      "2\n",
      "3\n",
      "5\n",
      "7\n",
      "11\n",
      "13\n",
      "17\n",
      "19\n",
      "23\n",
      "29\n",
      "31\n",
      "37\n",
      "41\n",
      "43\n",
      "47\n",
      "53\n",
      "59\n",
      "61\n",
      "67\n",
      "71\n"
     ]
    }
   ],
   "source": [
    "for i in range(20):\n",
    "    print(next(g_prime))"
   ]
  },
  {
   "cell_type": "code",
   "execution_count": null,
   "id": "fa1a7689-4223-4b00-8c08-074338b9acaf",
   "metadata": {},
   "outputs": [],
   "source": []
  },
  {
   "cell_type": "markdown",
   "id": "bde701be-5baa-4bd2-bdde-683552fc35b9",
   "metadata": {},
   "source": [
    "Q6. Write a python program to print the first 10 numbers using a while loop."
   ]
  },
  {
   "cell_type": "code",
   "execution_count": 6,
   "id": "71f87f75-9a32-46a5-88eb-c0eee8ccbd53",
   "metadata": {},
   "outputs": [],
   "source": [
    "def get_fabonacci():\n",
    "    a, b = 0,1\n",
    "    while True:\n",
    "        yield a\n",
    "        a, b = b ,a+b"
   ]
  },
  {
   "cell_type": "code",
   "execution_count": 8,
   "id": "4fb8271c-6f91-419c-9622-59b13e4e2a17",
   "metadata": {},
   "outputs": [
    {
     "name": "stdout",
     "output_type": "stream",
     "text": [
      "0\n",
      "1\n",
      "1\n",
      "2\n",
      "3\n",
      "5\n",
      "8\n",
      "13\n",
      "21\n",
      "34\n"
     ]
    }
   ],
   "source": [
    "g_fab = get_fabonacci()\n",
    "for i in range(10):\n",
    "    print(next(g_fab))"
   ]
  },
  {
   "cell_type": "code",
   "execution_count": null,
   "id": "df6129fc-9b6e-4147-8b1e-11a958f16a44",
   "metadata": {},
   "outputs": [],
   "source": []
  },
  {
   "cell_type": "markdown",
   "id": "e23eb6b7-89bc-4d3c-a66f-0e3b6c9f458d",
   "metadata": {},
   "source": [
    "Q7. Write a List Comprehension to iterate through the given string: ‘pwskills’.\n",
    "Expected output: ['p', 'w', 's', 'k', 'i', 'l', 'l', 's']"
   ]
  },
  {
   "cell_type": "code",
   "execution_count": 2,
   "id": "be2d8c40-3935-494b-bc8d-4c11a31052fd",
   "metadata": {},
   "outputs": [
    {
     "data": {
      "text/plain": [
       "['p', 'w', 's', 'k', 'i', 'l', 'l', 's']"
      ]
     },
     "execution_count": 2,
     "metadata": {},
     "output_type": "execute_result"
    }
   ],
   "source": [
    "res = []\n",
    "l_c = lambda s :[a for a in s]\n",
    "l_c('pwskills')"
   ]
  },
  {
   "cell_type": "code",
   "execution_count": null,
   "id": "5e480152-5295-4648-b3a5-a6ecc288d7eb",
   "metadata": {},
   "outputs": [],
   "source": []
  },
  {
   "cell_type": "markdown",
   "id": "179248ce-bb7e-4be5-9695-2aa66712568d",
   "metadata": {},
   "source": [
    "Q8. Write a python program to check whether a given number is Palindrome or not using a while loop."
   ]
  },
  {
   "cell_type": "code",
   "execution_count": 2,
   "id": "30fdd179-1b82-41e8-9999-40304fc995fb",
   "metadata": {},
   "outputs": [
    {
     "name": "stdin",
     "output_type": "stream",
     "text": [
      "Enter the number:  121\n"
     ]
    },
    {
     "name": "stdout",
     "output_type": "stream",
     "text": [
      "121 is a Palindrome\n"
     ]
    }
   ],
   "source": [
    "user_input = int(input('Enter the number: '))\n",
    "reverse = 0\n",
    "number = user_input\n",
    "while(user_input != 0):\n",
    "    remainder = user_input % 10\n",
    "    reverse = reverse * 10 + remainder\n",
    "    user_input = int(user_input / 10)\n",
    "if(number == reverse):\n",
    "    print(number,'is a Palindrome')\n",
    "else:\n",
    "    print(number,'is not a Palindrome')"
   ]
  },
  {
   "cell_type": "code",
   "execution_count": 4,
   "id": "eafea766-0248-4ed5-88a0-95116b62c429",
   "metadata": {},
   "outputs": [],
   "source": [
    "def palindrome_check(user_input):\n",
    "    reverse = 0\n",
    "    number = user_input\n",
    "    while(user_input != 0):\n",
    "        remainder = user_input % 10\n",
    "        reverse = reverse * 10 + remainder\n",
    "        user_input = int(user_input / 10)\n",
    "    if(number == reverse):\n",
    "        print(number,'is a Palindrome')\n",
    "    else:\n",
    "        print(number,'is not a Palindrome')"
   ]
  },
  {
   "cell_type": "code",
   "execution_count": 6,
   "id": "7b92e962-f83d-4505-81e2-861825502097",
   "metadata": {},
   "outputs": [
    {
     "name": "stdin",
     "output_type": "stream",
     "text": [
      "Enter the number to check for Palindrome 121\n"
     ]
    },
    {
     "name": "stdout",
     "output_type": "stream",
     "text": [
      "121 is a Palindrome\n"
     ]
    }
   ],
   "source": [
    "data_check = int(input('Enter the number to check for Palindrome'))\n",
    "palindrome_check(data_check)"
   ]
  },
  {
   "cell_type": "code",
   "execution_count": null,
   "id": "86381eb7-86e9-4057-8e39-4049037f9a1a",
   "metadata": {},
   "outputs": [],
   "source": []
  },
  {
   "cell_type": "markdown",
   "id": "93db20a0-6806-45db-a7c6-a3957f4f9013",
   "metadata": {},
   "source": [
    "Q9. Write a code to print odd numbers from 1 to 100 using list comprehension.\n",
    "Note: Use a list comprehension to create a list from 1 to 100 and use another List comprehension to filter\n",
    "out odd numbers."
   ]
  },
  {
   "cell_type": "code",
   "execution_count": 8,
   "id": "4c4f0a61-bdba-4806-80ea-c2e80ec6497d",
   "metadata": {},
   "outputs": [
    {
     "name": "stdout",
     "output_type": "stream",
     "text": [
      "[0, 1, 2, 3, 4, 5, 6, 7, 8, 9, 10, 11, 12, 13, 14, 15, 16, 17, 18, 19, 20, 21, 22, 23, 24, 25, 26, 27, 28, 29, 30, 31, 32, 33, 34, 35, 36, 37, 38, 39, 40, 41, 42, 43, 44, 45, 46, 47, 48, 49, 50, 51, 52, 53, 54, 55, 56, 57, 58, 59, 60, 61, 62, 63, 64, 65, 66, 67, 68, 69, 70, 71, 72, 73, 74, 75, 76, 77, 78, 79, 80, 81, 82, 83, 84, 85, 86, 87, 88, 89, 90, 91, 92, 93, 94, 95, 96, 97, 98, 99]\n"
     ]
    }
   ],
   "source": [
    "all_numbers = [n for n in range(100)]\n",
    "print(all_numbers)"
   ]
  },
  {
   "cell_type": "code",
   "execution_count": 10,
   "id": "c34dfc3c-190b-4486-8092-308f131ab686",
   "metadata": {},
   "outputs": [
    {
     "name": "stdout",
     "output_type": "stream",
     "text": [
      "[1, 3, 5, 7, 9, 11, 13, 15, 17, 19, 21, 23, 25, 27, 29, 31, 33, 35, 37, 39, 41, 43, 45, 47, 49, 51, 53, 55, 57, 59, 61, 63, 65, 67, 69, 71, 73, 75, 77, 79, 81, 83, 85, 87, 89, 91, 93, 95, 97, 99]\n"
     ]
    }
   ],
   "source": [
    "odd_numbers = [o for o in all_numbers if o % 2 != 0]\n",
    "print(odd_numbers)"
   ]
  },
  {
   "cell_type": "code",
   "execution_count": null,
   "id": "ef6370bd-fb3d-4a5d-8c53-f45a250eebd2",
   "metadata": {},
   "outputs": [],
   "source": []
  }
 ],
 "metadata": {
  "kernelspec": {
   "display_name": "Python 3 (ipykernel)",
   "language": "python",
   "name": "python3"
  },
  "language_info": {
   "codemirror_mode": {
    "name": "ipython",
    "version": 3
   },
   "file_extension": ".py",
   "mimetype": "text/x-python",
   "name": "python",
   "nbconvert_exporter": "python",
   "pygments_lexer": "ipython3",
   "version": "3.10.8"
  }
 },
 "nbformat": 4,
 "nbformat_minor": 5
}
