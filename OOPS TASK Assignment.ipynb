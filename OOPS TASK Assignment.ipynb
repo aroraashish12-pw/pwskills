{
 "cells": [
  {
   "cell_type": "markdown",
   "id": "cfd22ad8-4a53-4178-b82b-09427c8678d0",
   "metadata": {},
   "source": [
    "Q1, Create a vehicle class with an init method having instance variables as name_of_vehicle, max_speed\n",
    "and average_of_vehicle."
   ]
  },
  {
   "cell_type": "code",
   "execution_count": 13,
   "id": "4030999f-a4a1-4d87-8466-4f0d395b0b33",
   "metadata": {},
   "outputs": [],
   "source": [
    "class vehicle:\n",
    "    def __init__(self,name_of_vehicle, max_speed, average_of_vehicle):\n",
    "        self.name_of_vehicle = name_of_vehicle\n",
    "        self.max_speed = max_speed\n",
    "        self.average_of_vehicle = average_of_vehicle"
   ]
  },
  {
   "cell_type": "code",
   "execution_count": 14,
   "id": "06ad2d5d-95bb-498a-b8f9-e677a2ec7c92",
   "metadata": {},
   "outputs": [],
   "source": [
    "v1 = vehicle(\"Honda\", 250,100)"
   ]
  },
  {
   "cell_type": "code",
   "execution_count": 15,
   "id": "28aeca4b-bd77-445c-ab81-09566e0e149d",
   "metadata": {},
   "outputs": [
    {
     "data": {
      "text/plain": [
       "'Honda'"
      ]
     },
     "execution_count": 15,
     "metadata": {},
     "output_type": "execute_result"
    }
   ],
   "source": [
    "v1.name_of_vehicle"
   ]
  },
  {
   "cell_type": "code",
   "execution_count": null,
   "id": "4bb3e194-13d0-450b-b832-88b89e288c6f",
   "metadata": {},
   "outputs": [],
   "source": []
  },
  {
   "cell_type": "markdown",
   "id": "815c9f12-ccd1-4d77-8f14-bb3dfa4f183e",
   "metadata": {},
   "source": [
    "Q2. Create a child class car from the vehicle class created in Que 1, which will inherit the vehicle class.\n",
    "Create a method named seating_capacity which takes capacity as an argument and returns the name of\n",
    "the vehicle and its seating capacity."
   ]
  },
  {
   "cell_type": "code",
   "execution_count": 16,
   "id": "bf77d153-9635-4dc1-b8ce-65ddfe97f0fa",
   "metadata": {},
   "outputs": [],
   "source": [
    "class car(vehicle):\n",
    "    def seating_capacity(self, capacity):\n",
    "        self.capacity = capacity\n",
    "        data = self.name_of_vehicle+\" has a sating capacity of \"+str(self.capacity)\n",
    "        return data"
   ]
  },
  {
   "cell_type": "code",
   "execution_count": 17,
   "id": "a86f77c2-8f88-493f-8301-c18d769eee09",
   "metadata": {},
   "outputs": [
    {
     "name": "stdout",
     "output_type": "stream",
     "text": [
      "Honda has a sating capacity of 4\n"
     ]
    }
   ],
   "source": [
    "car_obj = car(\"Honda\", 250,100)\n",
    "print(car_obj.seating_capacity(4))"
   ]
  },
  {
   "cell_type": "code",
   "execution_count": null,
   "id": "3db862fc-7676-4de5-825d-0de9d26f247b",
   "metadata": {},
   "outputs": [],
   "source": []
  },
  {
   "cell_type": "markdown",
   "id": "9c95d3f2-3dd1-404c-b4d8-3659fb688e17",
   "metadata": {},
   "source": [
    "Q3. What is multiple inheritance? Write a python code to demonstrate multiple inheritance."
   ]
  },
  {
   "cell_type": "markdown",
   "id": "ebf20ba2-0c8d-4c68-81a2-03e16ec28de6",
   "metadata": {},
   "source": [
    "The mechanism  in which your class is being inherited from more than one classes is known as multiple inheritence "
   ]
  },
  {
   "cell_type": "code",
   "execution_count": 18,
   "id": "30c2f105-a4cb-430f-8200-63cc4a6e2d1c",
   "metadata": {},
   "outputs": [],
   "source": [
    "class student:\n",
    "    def get_student_details(self):\n",
    "        print(\"I am Joe and i got 9 as my CGPA\")\n",
    "        "
   ]
  },
  {
   "cell_type": "code",
   "execution_count": 19,
   "id": "2f38b1f3-ac57-4a2a-8e89-108897c14ce0",
   "metadata": {},
   "outputs": [],
   "source": [
    "class address:\n",
    "    def get_student_address(self):\n",
    "        print(\"I am Joe and i live in Gurugram which falls in state Haryana\")"
   ]
  },
  {
   "cell_type": "code",
   "execution_count": 20,
   "id": "9392d692-b0e6-4431-9440-f355ce67fd06",
   "metadata": {},
   "outputs": [],
   "source": [
    "class school(student,address):\n",
    "    pass\n",
    "        "
   ]
  },
  {
   "cell_type": "code",
   "execution_count": 21,
   "id": "2f13cde6-a4e6-4b30-b6a2-2f6af3afcd5e",
   "metadata": {},
   "outputs": [
    {
     "name": "stdout",
     "output_type": "stream",
     "text": [
      "I am Joe and i got 9 as my CGPA\n",
      "I am Joe and i live in Gurugram which falls in state Haryana\n"
     ]
    }
   ],
   "source": [
    "school_obj = school()\n",
    "school_obj.get_student_details()\n",
    "school_obj.get_student_address()"
   ]
  },
  {
   "cell_type": "code",
   "execution_count": null,
   "id": "73b09667-1fab-4d58-8d22-ada791232ba8",
   "metadata": {},
   "outputs": [],
   "source": []
  },
  {
   "cell_type": "markdown",
   "id": "deeec19b-683f-4ce5-bd74-b6707ca9c35e",
   "metadata": {},
   "source": [
    "Q4. What are getter and setter in python? Create a class and create a getter and a setter method in this\n",
    "class."
   ]
  },
  {
   "cell_type": "markdown",
   "id": "8ae6f844-93a0-4138-8cf2-487123fc2450",
   "metadata": {},
   "source": [
    "Getter and Setter methods are used to implement the principle of Abstraction in OOPS. We use them when we dod not want the objects or instances to directly manipulate the \n",
    "values of the variables. Instead any opetaion that needs to be done on private varaibles need to be done using getter and setter methods.\n"
   ]
  },
  {
   "cell_type": "code",
   "execution_count": 24,
   "id": "9ab86c9e-d61e-4c7d-adf1-18d83433dd38",
   "metadata": {},
   "outputs": [],
   "source": [
    "class company:\n",
    "    def __init__(self, number_of_employees, average_salary):\n",
    "        self.number_of_employees = number_of_employees\n",
    "        self.__average_salary = average_salary\n",
    "        \n",
    "    def set_average_salary(self, avergae_sal):\n",
    "        self.__average_salary = avergae_sal\n",
    "\n",
    "    def get_average_salary(self):\n",
    "        return self.__average_salary\n",
    "        "
   ]
  },
  {
   "cell_type": "code",
   "execution_count": 25,
   "id": "37555770-871d-451e-8894-883ee4852d6e",
   "metadata": {},
   "outputs": [
    {
     "data": {
      "text/plain": [
       "10"
      ]
     },
     "execution_count": 25,
     "metadata": {},
     "output_type": "execute_result"
    }
   ],
   "source": [
    "company_obj = company(10,20000)\n",
    "#Can be accessed directly as its not private\n",
    "company_obj.number_of_employees"
   ]
  },
  {
   "cell_type": "code",
   "execution_count": 26,
   "id": "c23bedba-743c-410a-a6cf-f01f2e0d97dd",
   "metadata": {},
   "outputs": [
    {
     "data": {
      "text/plain": [
       "30000"
      ]
     },
     "execution_count": 26,
     "metadata": {},
     "output_type": "execute_result"
    }
   ],
   "source": [
    "company_obj = company(10,20000)\n",
    "company_obj.set_average_salary(30000)\n",
    "company_obj.get_average_salary()"
   ]
  },
  {
   "cell_type": "code",
   "execution_count": null,
   "id": "46ff74ea-23d6-46aa-9570-0c6b0e63b7ae",
   "metadata": {},
   "outputs": [],
   "source": []
  },
  {
   "cell_type": "markdown",
   "id": "7197a786-1c94-46d7-8d4d-2f8178843fa3",
   "metadata": {},
   "source": [
    "Q5.What is method overriding in python? Write a python code to demonstrate method overriding."
   ]
  },
  {
   "cell_type": "markdown",
   "id": "b103bcba-4283-4e3a-b925-96ea3281f907",
   "metadata": {},
   "source": [
    "Method overriding is a principle that allows a child class to provide a specific implementation of a method that is already provided by its parent classes"
   ]
  },
  {
   "cell_type": "code",
   "execution_count": 27,
   "id": "39102778-2b74-4181-9867-03aacf396ac6",
   "metadata": {},
   "outputs": [],
   "source": [
    "class Animal:\n",
    "    def show_my_voice(self):\n",
    "        print(\"My voice is sweet\")"
   ]
  },
  {
   "cell_type": "code",
   "execution_count": 28,
   "id": "9e4dd019-98bf-4018-9f74-a00cef2354e2",
   "metadata": {},
   "outputs": [],
   "source": [
    "class Dog(Animal):\n",
    "    def show_my_voice(self):\n",
    "        print(\"I am a Dog and my voice is bark\")"
   ]
  },
  {
   "cell_type": "code",
   "execution_count": 29,
   "id": "e04eca9f-6de4-47a4-bf57-c9a40e65eaec",
   "metadata": {},
   "outputs": [
    {
     "name": "stdout",
     "output_type": "stream",
     "text": [
      "My voice is sweet\n",
      "I am a Dog and my voice is bark\n"
     ]
    }
   ],
   "source": [
    "animal_obj = Animal()\n",
    "animal_obj.show_my_voice()\n",
    "dog_obj = Dog()\n",
    "dog_obj.show_my_voice()"
   ]
  },
  {
   "cell_type": "code",
   "execution_count": null,
   "id": "1ebb5cbf-e961-4f03-9778-3b2abee6a9ef",
   "metadata": {},
   "outputs": [],
   "source": []
  }
 ],
 "metadata": {
  "kernelspec": {
   "display_name": "Python 3 (ipykernel)",
   "language": "python",
   "name": "python3"
  },
  "language_info": {
   "codemirror_mode": {
    "name": "ipython",
    "version": 3
   },
   "file_extension": ".py",
   "mimetype": "text/x-python",
   "name": "python",
   "nbconvert_exporter": "python",
   "pygments_lexer": "ipython3",
   "version": "3.10.8"
  }
 },
 "nbformat": 4,
 "nbformat_minor": 5
}
