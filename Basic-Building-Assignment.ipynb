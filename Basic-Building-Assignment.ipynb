{
 "cells": [
  {
   "cell_type": "markdown",
   "id": "18e80a2e-23b5-4c96-ae11-704315300654",
   "metadata": {},
   "source": [
    "Q1. Create one variable containing following type of data:\n",
    "(i) string\n",
    "(ii) list\n",
    "(iii) float\n",
    "(iv) tuple"
   ]
  },
  {
   "cell_type": "code",
   "execution_count": null,
   "id": "7f55ed7f-17cc-46e0-b249-a54df926cdb1",
   "metadata": {},
   "outputs": [],
   "source": [
    "a_str = \"pwskills\"\n",
    "a_list = [1,2,3,\"pwskills\",23.33,True]\n",
    "a_float = 23.44\n",
    "a_tuple = (2,3)"
   ]
  },
  {
   "cell_type": "code",
   "execution_count": null,
   "id": "ee84f046-4f97-48ba-9a1b-c72cae2273cc",
   "metadata": {},
   "outputs": [],
   "source": []
  },
  {
   "cell_type": "markdown",
   "id": "a467587a-3991-4923-a20b-d3c643097bdf",
   "metadata": {},
   "source": [
    "Q2. Given are some following variables containing data:\n",
    "(i) var1 = ‘ ‘\n",
    "(ii) var2 = ‘[ DS , ML , Python]’\n",
    "(iii) var3 = [ ‘DS’ , ’ML’ , ‘Python’ ]\n",
    "(iv) var4 = 1.\n",
    "What will be the data type of the above given variable."
   ]
  },
  {
   "cell_type": "code",
   "execution_count": 9,
   "id": "2747879d-eb35-44a5-bb19-60a0929cac38",
   "metadata": {},
   "outputs": [
    {
     "name": "stdout",
     "output_type": "stream",
     "text": [
      "var1 is of type  <class 'str'>\n",
      "var2 is of type  <class 'str'>\n",
      "var3 is of type  <class 'list'>\n",
      "var4 is of type  <class 'int'>\n"
     ]
    }
   ],
   "source": [
    "var1 = ' '\n",
    "print(\"var1 is of type \",type(var1))\n",
    "var2 = '[ DS , ML , Python]'\n",
    "print(\"var2 is of type \",type(var2))\n",
    "var3 = ['DS' , 'ML' , 'Python']\n",
    "print(\"var3 is of type \",type(var3))\n",
    "var4 = 1\n",
    "print(\"var4 is of type \",type(var4))"
   ]
  },
  {
   "cell_type": "code",
   "execution_count": null,
   "id": "c5871159-e408-4035-b127-bffcdde53d0c",
   "metadata": {},
   "outputs": [],
   "source": []
  },
  {
   "cell_type": "markdown",
   "id": "c7a2357c-c619-47d9-82ed-cf7b74893d5e",
   "metadata": {},
   "source": [
    "Q3. Explain the use of the following operators using an example:\n",
    "(i) /\n",
    "(ii) %\n",
    "(iii) //\n",
    "(iv) **"
   ]
  },
  {
   "cell_type": "code",
   "execution_count": 19,
   "id": "f965a03b-13f0-4dd3-b746-ecc6b394e0e4",
   "metadata": {},
   "outputs": [
    {
     "name": "stdout",
     "output_type": "stream",
     "text": [
      "Dividing 20 by 5 gives 4.0\n",
      "Dividing 20 by 6 gives remainder of  2\n",
      "Dividing 20 by 6 gives floor value of  3\n",
      "2 raise to power 3 will be  8\n"
     ]
    }
   ],
   "source": [
    "# / is a arithmetic operator knon as divison and is used for to divide one operand with another.\n",
    "print(\"Dividing 20 by 5 gives\", 20/5)\n",
    "# % is a arithmetic operator known as modulus amd gives the remainder when one operand is divided with another.\n",
    "print(\"Dividing 20 by 6 gives remainder of \", 20%6)\n",
    "# // is a arithmetic operator amd gives the floor value when one operand is divided with another.\n",
    "print(\"Dividing 20 by 6 gives floor value of \", 20//6)\n",
    "# ** is a arithmetic operator knoown as exponent amd gives the resut value when one operand is raised to power of second operand.\n",
    "print(\"2 raise to power 3 will be \", 2**3)"
   ]
  },
  {
   "cell_type": "code",
   "execution_count": null,
   "id": "ad90c936-b9cf-4a2f-baa4-a73b3dab8499",
   "metadata": {},
   "outputs": [],
   "source": []
  },
  {
   "cell_type": "markdown",
   "id": "1cdaf4d1-8e67-41f0-bec3-752b87bb3507",
   "metadata": {},
   "source": [
    "Q4. Create a list of length 10 of your choice containing multiple types of data. Using for loop print the\n",
    "element and its data type."
   ]
  },
  {
   "cell_type": "code",
   "execution_count": 21,
   "id": "cb580320-f733-46e3-be3a-cb3147b5cea0",
   "metadata": {},
   "outputs": [
    {
     "name": "stdout",
     "output_type": "stream",
     "text": [
      "1 is of type  <class 'int'>\n",
      "2 is of type  <class 'int'>\n",
      "3 is of type  <class 'int'>\n",
      "pwskills is of type  <class 'str'>\n",
      "23.33 is of type  <class 'float'>\n",
      "True is of type  <class 'bool'>\n",
      "(24+4j) is of type  <class 'complex'>\n",
      "python is of type  <class 'str'>\n",
      "data science is of type  <class 'str'>\n",
      "False is of type  <class 'bool'>\n"
     ]
    }
   ],
   "source": [
    "m_list = [1,2,3,\"pwskills\",23.33,True,24+4j,\"python\",\"data science\",False]\n",
    "for m in m_list:\n",
    "    print(m, \"is of type \",type(m))"
   ]
  },
  {
   "cell_type": "code",
   "execution_count": null,
   "id": "bcc8b2f3-b230-40ac-b774-a7c3f8487219",
   "metadata": {},
   "outputs": [],
   "source": []
  },
  {
   "cell_type": "markdown",
   "id": "45d5ffb7-9315-4f3d-927c-cc886b7cfa72",
   "metadata": {},
   "source": [
    "Q5. Using a while loop, verify if the number A is purely divisible by number B and if so then how many times it can be divisible."
   ]
  },
  {
   "cell_type": "code",
   "execution_count": 23,
   "id": "714fb142-10b1-4e66-a2f5-f43a25e75b09",
   "metadata": {},
   "outputs": [
    {
     "data": {
      "text/plain": [
       "25.0"
      ]
     },
     "execution_count": 23,
     "metadata": {},
     "output_type": "execute_result"
    }
   ],
   "source": [
    "a = 150\n",
    "b = 6\n",
    "a/b"
   ]
  },
  {
   "cell_type": "code",
   "execution_count": 16,
   "id": "d84c7af7-953b-4826-b018-ac5fde5157b6",
   "metadata": {},
   "outputs": [
    {
     "name": "stdout",
     "output_type": "stream",
     "text": [
      "Number A is purely divisible by number B and is  3 times divisible\n"
     ]
    }
   ],
   "source": [
    "A = 492\n",
    "B = 6\n",
    "result = 0\n",
    "if A % B == 0:\n",
    "    while A > 1:\n",
    "        A = A / B\n",
    "        result = result + 1\n",
    "    print(\"Number A is purely divisible by number B and is \",(result-1), \"times divisible\")\n",
    "else:\n",
    "    print(\"Number A is not purely divisible by number B\")"
   ]
  },
  {
   "cell_type": "code",
   "execution_count": null,
   "id": "e5bf79fc-f2c1-4581-9841-ed8db2aa3699",
   "metadata": {},
   "outputs": [],
   "source": []
  },
  {
   "cell_type": "markdown",
   "id": "bd765d15-e777-47ee-9f0e-f9afef7f76db",
   "metadata": {},
   "source": [
    "Q6. Create a list containing 25 int type data. Using for loop and if-else condition print if the element is divisible by 3 or not."
   ]
  },
  {
   "cell_type": "code",
   "execution_count": 19,
   "id": "5cc9031f-747a-4e47-9b58-b478b8035b1e",
   "metadata": {},
   "outputs": [
    {
     "name": "stdout",
     "output_type": "stream",
     "text": [
      "0 is divisble by 3\n",
      "1 is not divisble by 3\n",
      "2 is not divisble by 3\n",
      "3 is divisble by 3\n",
      "4 is not divisble by 3\n",
      "5 is not divisble by 3\n",
      "6 is divisble by 3\n",
      "7 is not divisble by 3\n",
      "8 is not divisble by 3\n",
      "9 is divisble by 3\n",
      "10 is not divisble by 3\n",
      "11 is not divisble by 3\n",
      "12 is divisble by 3\n",
      "13 is not divisble by 3\n",
      "14 is not divisble by 3\n",
      "15 is divisble by 3\n",
      "16 is not divisble by 3\n",
      "17 is not divisble by 3\n",
      "18 is divisble by 3\n",
      "19 is not divisble by 3\n",
      "20 is not divisble by 3\n",
      "21 is divisble by 3\n",
      "22 is not divisble by 3\n",
      "23 is not divisble by 3\n",
      "24 is divisble by 3\n"
     ]
    }
   ],
   "source": [
    "n_list = [x for x in range(25)]\n",
    "for n in n_list:\n",
    "    if n %3 ==0 :\n",
    "        print(n, \"is divisble by 3\")\n",
    "    else:\n",
    "         print(n, \"is not divisble by 3\")"
   ]
  },
  {
   "cell_type": "code",
   "execution_count": null,
   "id": "477b01fe-9f7f-47f7-b2a1-15b0c49bce7a",
   "metadata": {},
   "outputs": [],
   "source": []
  },
  {
   "cell_type": "markdown",
   "id": "5f4ec86b-abb2-48a3-b85a-52617c32be83",
   "metadata": {},
   "source": [
    "Q7. What do you understand about mutable and immutable data types? Give examples for both showing\n",
    "this property."
   ]
  },
  {
   "cell_type": "markdown",
   "id": "b359c656-f68c-4b59-9b99-fc22ff66ac66",
   "metadata": {},
   "source": [
    "Mutable datatypes are the datatypes that allows you to change its value without changing its identity like list, dictionary\n",
    "Immutable datatypes are the datatypes that do allows you to change its value like string, integer\n"
   ]
  },
  {
   "cell_type": "code",
   "execution_count": 21,
   "id": "e36f1ada-7615-43f2-a0e0-6398c530bd35",
   "metadata": {},
   "outputs": [
    {
     "name": "stdout",
     "output_type": "stream",
     "text": [
      "[1, 2, 3, 4, 5]\n",
      "[5, 2, 3, 4, 5]\n"
     ]
    }
   ],
   "source": [
    "#Mutable Example\n",
    "l1 = [1,2,3,4,5]\n",
    "print(l1)\n",
    "l1[0] = 5\n",
    "print(l1)"
   ]
  },
  {
   "cell_type": "markdown",
   "id": "24cb3c7e-e104-4497-9f90-fcf3104d7e9c",
   "metadata": {},
   "source": [
    "#Immutable Example\n",
    "s = \"pwskills\"\n",
    "s[0] =\"a\" \n",
    "Above will give an error 'str' object does not support item assignment as its immutable.\n"
   ]
  },
  {
   "cell_type": "code",
   "execution_count": null,
   "id": "416a0bdc-cd8f-46bc-b8b5-fdce6d97a7fc",
   "metadata": {},
   "outputs": [],
   "source": []
  }
 ],
 "metadata": {
  "kernelspec": {
   "display_name": "Python 3 (ipykernel)",
   "language": "python",
   "name": "python3"
  },
  "language_info": {
   "codemirror_mode": {
    "name": "ipython",
    "version": 3
   },
   "file_extension": ".py",
   "mimetype": "text/x-python",
   "name": "python",
   "nbconvert_exporter": "python",
   "pygments_lexer": "ipython3",
   "version": "3.10.8"
  }
 },
 "nbformat": 4,
 "nbformat_minor": 5
}
